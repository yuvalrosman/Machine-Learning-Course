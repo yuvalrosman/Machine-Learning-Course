{
  "cells": [
    {
      "cell_type": "markdown",
      "source": [
        "# Assignment 2 - Decision Trees"
      ],
      "metadata": {
        "id": "HDXVaQNsYNfp"
      }
    },
    {
      "cell_type": "markdown",
      "source": [
        "## Before you begin\n",
        "\n",
        "Remember to:\n",
        "\n",
        "1. Make your own copy of the notebook by pressing the \"Copy to drive\" button.\n",
        "2. Expend all cells by pressing **Ctrl+[**\n",
        "\n",
        "### Your IDs\n",
        "\n",
        "✍️ Fill in your IDs in the cell below:"
      ],
      "metadata": {
        "id": "Rztv96D2YNfs"
      }
    },
    {
      "cell_type": "code",
      "source": [
        "## %%%%%%%%%%%%%%% Your code here - Begin %%%%%%%%%%%%%%%\n",
        "## Fill in your IDs (as a string)\n",
        "student1_id = '208253831'\n",
        "student2_id = '208200154'\n",
        "## %%%%%%%%%%%%%%% Your code here - End %%%%%%%%%%%%%%%%%\n",
        "\n",
        "print('Hello ' + student1_id + ' & ' + student2_id)"
      ],
      "metadata": {
        "id": "_lYcYT_IYNft",
        "colab": {
          "base_uri": "https://localhost:8080/"
        },
        "outputId": "d299ec1a-8e0f-4f51-a0ec-eff216347ede"
      },
      "execution_count": null,
      "outputs": [
        {
          "output_type": "stream",
          "name": "stdout",
          "text": [
            "Hello 208253831 & 208200154\n"
          ]
        }
      ]
    },
    {
      "cell_type": "markdown",
      "source": [
        "### Importing Packages"
      ],
      "metadata": {
        "id": "DEZoRpUcYNfv"
      }
    },
    {
      "cell_type": "code",
      "source": [
        "import numpy as np  # Numerical package (mainly multi-dimensional arrays and linear algebra)\n",
        "import pandas as pd  # A package for working with data frames\n",
        "import matplotlib.pyplot as plt  # A plotting package\n",
        "\n",
        "## Setup matplotlib to output figures into the notebook\n",
        "%matplotlib inline\n",
        "\n",
        "## Set some default values of the the matplotlib plots\n",
        "plt.rcParams['figure.figsize'] = (6.0, 6.0)  # Set default plot's sizes\n",
        "plt.rcParams['figure.dpi'] = 120  # Set default plot's dpi (increase fonts' size)\n",
        "plt.rcParams['axes.grid'] = True  # Show grid by default in figures"
      ],
      "metadata": {
        "id": "WTzPh5dnYNfv"
      },
      "execution_count": null,
      "outputs": []
    },
    {
      "cell_type": "markdown",
      "source": [
        "## Seoul Bike Sharing Demand Dataset\n",
        "\n",
        "Similar to the previous assignment, we will again work with the bike sharing dataset trying to predict the number of rented bikes in each hour according to the day of the week, the time of day and the weather."
      ],
      "metadata": {
        "id": "QoJVfNWxYNfv"
      }
    },
    {
      "cell_type": "markdown",
      "source": [
        "### Loading the dataset"
      ],
      "metadata": {
        "id": "fL6Mt3jVYNfw"
      }
    },
    {
      "cell_type": "code",
      "source": [
        "dataset_location = 'https://technion046195.netlify.app/datasets/bike_demand.csv'\n",
        "\n",
        "## Loading the data\n",
        "dataset = pd.read_csv(dataset_location)"
      ],
      "metadata": {
        "id": "JcTEkMTYYNfw"
      },
      "execution_count": null,
      "outputs": []
    },
    {
      "cell_type": "markdown",
      "source": [
        "We shall plot the dataset again"
      ],
      "metadata": {
        "id": "K0pGFiUAYNfw"
      }
    },
    {
      "cell_type": "code",
      "source": [
        "dataset"
      ],
      "metadata": {
        "id": "-MAtvmu0YNfw",
        "colab": {
          "base_uri": "https://localhost:8080/",
          "height": 539
        },
        "outputId": "2efe043f-1ceb-4a6d-9e8d-743e6116d1cc"
      },
      "execution_count": null,
      "outputs": [
        {
          "output_type": "execute_result",
          "data": {
            "text/plain": [
              "            Date  Rented Bike Count  Hour  Temperature(°C)  Humidity(%)  \\\n",
              "0     01/12/2017                254     0             -5.2           37   \n",
              "1     01/12/2017                204     1             -5.5           38   \n",
              "2     01/12/2017                173     2             -6.0           39   \n",
              "3     01/12/2017                107     3             -6.2           40   \n",
              "4     01/12/2017                 78     4             -6.0           36   \n",
              "...          ...                ...   ...              ...          ...   \n",
              "8052  30/11/2018               1003    19              4.2           34   \n",
              "8053  30/11/2018                764    20              3.4           37   \n",
              "8054  30/11/2018                694    21              2.6           39   \n",
              "8055  30/11/2018                712    22              2.1           41   \n",
              "8056  30/11/2018                584    23              1.9           43   \n",
              "\n",
              "      Wind speed (m/s)  Visibility (10m)  Solar Radiation (MJ/m2)  \\\n",
              "0                  2.2              2000                      0.0   \n",
              "1                  0.8              2000                      0.0   \n",
              "2                  1.0              2000                      0.0   \n",
              "3                  0.9              2000                      0.0   \n",
              "4                  2.3              2000                      0.0   \n",
              "...                ...               ...                      ...   \n",
              "8052               2.6              1894                      0.0   \n",
              "8053               2.3              2000                      0.0   \n",
              "8054               0.3              1968                      0.0   \n",
              "8055               1.0              1859                      0.0   \n",
              "8056               1.3              1909                      0.0   \n",
              "\n",
              "      Rainfall(mm)  Snowfall (cm)  Day of the week  \n",
              "0              0.0            0.0                4  \n",
              "1              0.0            0.0                4  \n",
              "2              0.0            0.0                4  \n",
              "3              0.0            0.0                4  \n",
              "4              0.0            0.0                4  \n",
              "...            ...            ...              ...  \n",
              "8052           0.0            0.0                4  \n",
              "8053           0.0            0.0                4  \n",
              "8054           0.0            0.0                4  \n",
              "8055           0.0            0.0                4  \n",
              "8056           0.0            0.0                4  \n",
              "\n",
              "[8057 rows x 11 columns]"
            ],
            "text/html": [
              "\n",
              "  <div id=\"df-60ab34de-25c0-4dd9-bbda-23d80a316fd0\">\n",
              "    <div class=\"colab-df-container\">\n",
              "      <div>\n",
              "<style scoped>\n",
              "    .dataframe tbody tr th:only-of-type {\n",
              "        vertical-align: middle;\n",
              "    }\n",
              "\n",
              "    .dataframe tbody tr th {\n",
              "        vertical-align: top;\n",
              "    }\n",
              "\n",
              "    .dataframe thead th {\n",
              "        text-align: right;\n",
              "    }\n",
              "</style>\n",
              "<table border=\"1\" class=\"dataframe\">\n",
              "  <thead>\n",
              "    <tr style=\"text-align: right;\">\n",
              "      <th></th>\n",
              "      <th>Date</th>\n",
              "      <th>Rented Bike Count</th>\n",
              "      <th>Hour</th>\n",
              "      <th>Temperature(°C)</th>\n",
              "      <th>Humidity(%)</th>\n",
              "      <th>Wind speed (m/s)</th>\n",
              "      <th>Visibility (10m)</th>\n",
              "      <th>Solar Radiation (MJ/m2)</th>\n",
              "      <th>Rainfall(mm)</th>\n",
              "      <th>Snowfall (cm)</th>\n",
              "      <th>Day of the week</th>\n",
              "    </tr>\n",
              "  </thead>\n",
              "  <tbody>\n",
              "    <tr>\n",
              "      <th>0</th>\n",
              "      <td>01/12/2017</td>\n",
              "      <td>254</td>\n",
              "      <td>0</td>\n",
              "      <td>-5.2</td>\n",
              "      <td>37</td>\n",
              "      <td>2.2</td>\n",
              "      <td>2000</td>\n",
              "      <td>0.0</td>\n",
              "      <td>0.0</td>\n",
              "      <td>0.0</td>\n",
              "      <td>4</td>\n",
              "    </tr>\n",
              "    <tr>\n",
              "      <th>1</th>\n",
              "      <td>01/12/2017</td>\n",
              "      <td>204</td>\n",
              "      <td>1</td>\n",
              "      <td>-5.5</td>\n",
              "      <td>38</td>\n",
              "      <td>0.8</td>\n",
              "      <td>2000</td>\n",
              "      <td>0.0</td>\n",
              "      <td>0.0</td>\n",
              "      <td>0.0</td>\n",
              "      <td>4</td>\n",
              "    </tr>\n",
              "    <tr>\n",
              "      <th>2</th>\n",
              "      <td>01/12/2017</td>\n",
              "      <td>173</td>\n",
              "      <td>2</td>\n",
              "      <td>-6.0</td>\n",
              "      <td>39</td>\n",
              "      <td>1.0</td>\n",
              "      <td>2000</td>\n",
              "      <td>0.0</td>\n",
              "      <td>0.0</td>\n",
              "      <td>0.0</td>\n",
              "      <td>4</td>\n",
              "    </tr>\n",
              "    <tr>\n",
              "      <th>3</th>\n",
              "      <td>01/12/2017</td>\n",
              "      <td>107</td>\n",
              "      <td>3</td>\n",
              "      <td>-6.2</td>\n",
              "      <td>40</td>\n",
              "      <td>0.9</td>\n",
              "      <td>2000</td>\n",
              "      <td>0.0</td>\n",
              "      <td>0.0</td>\n",
              "      <td>0.0</td>\n",
              "      <td>4</td>\n",
              "    </tr>\n",
              "    <tr>\n",
              "      <th>4</th>\n",
              "      <td>01/12/2017</td>\n",
              "      <td>78</td>\n",
              "      <td>4</td>\n",
              "      <td>-6.0</td>\n",
              "      <td>36</td>\n",
              "      <td>2.3</td>\n",
              "      <td>2000</td>\n",
              "      <td>0.0</td>\n",
              "      <td>0.0</td>\n",
              "      <td>0.0</td>\n",
              "      <td>4</td>\n",
              "    </tr>\n",
              "    <tr>\n",
              "      <th>...</th>\n",
              "      <td>...</td>\n",
              "      <td>...</td>\n",
              "      <td>...</td>\n",
              "      <td>...</td>\n",
              "      <td>...</td>\n",
              "      <td>...</td>\n",
              "      <td>...</td>\n",
              "      <td>...</td>\n",
              "      <td>...</td>\n",
              "      <td>...</td>\n",
              "      <td>...</td>\n",
              "    </tr>\n",
              "    <tr>\n",
              "      <th>8052</th>\n",
              "      <td>30/11/2018</td>\n",
              "      <td>1003</td>\n",
              "      <td>19</td>\n",
              "      <td>4.2</td>\n",
              "      <td>34</td>\n",
              "      <td>2.6</td>\n",
              "      <td>1894</td>\n",
              "      <td>0.0</td>\n",
              "      <td>0.0</td>\n",
              "      <td>0.0</td>\n",
              "      <td>4</td>\n",
              "    </tr>\n",
              "    <tr>\n",
              "      <th>8053</th>\n",
              "      <td>30/11/2018</td>\n",
              "      <td>764</td>\n",
              "      <td>20</td>\n",
              "      <td>3.4</td>\n",
              "      <td>37</td>\n",
              "      <td>2.3</td>\n",
              "      <td>2000</td>\n",
              "      <td>0.0</td>\n",
              "      <td>0.0</td>\n",
              "      <td>0.0</td>\n",
              "      <td>4</td>\n",
              "    </tr>\n",
              "    <tr>\n",
              "      <th>8054</th>\n",
              "      <td>30/11/2018</td>\n",
              "      <td>694</td>\n",
              "      <td>21</td>\n",
              "      <td>2.6</td>\n",
              "      <td>39</td>\n",
              "      <td>0.3</td>\n",
              "      <td>1968</td>\n",
              "      <td>0.0</td>\n",
              "      <td>0.0</td>\n",
              "      <td>0.0</td>\n",
              "      <td>4</td>\n",
              "    </tr>\n",
              "    <tr>\n",
              "      <th>8055</th>\n",
              "      <td>30/11/2018</td>\n",
              "      <td>712</td>\n",
              "      <td>22</td>\n",
              "      <td>2.1</td>\n",
              "      <td>41</td>\n",
              "      <td>1.0</td>\n",
              "      <td>1859</td>\n",
              "      <td>0.0</td>\n",
              "      <td>0.0</td>\n",
              "      <td>0.0</td>\n",
              "      <td>4</td>\n",
              "    </tr>\n",
              "    <tr>\n",
              "      <th>8056</th>\n",
              "      <td>30/11/2018</td>\n",
              "      <td>584</td>\n",
              "      <td>23</td>\n",
              "      <td>1.9</td>\n",
              "      <td>43</td>\n",
              "      <td>1.3</td>\n",
              "      <td>1909</td>\n",
              "      <td>0.0</td>\n",
              "      <td>0.0</td>\n",
              "      <td>0.0</td>\n",
              "      <td>4</td>\n",
              "    </tr>\n",
              "  </tbody>\n",
              "</table>\n",
              "<p>8057 rows × 11 columns</p>\n",
              "</div>\n",
              "      <button class=\"colab-df-convert\" onclick=\"convertToInteractive('df-60ab34de-25c0-4dd9-bbda-23d80a316fd0')\"\n",
              "              title=\"Convert this dataframe to an interactive table.\"\n",
              "              style=\"display:none;\">\n",
              "        \n",
              "  <svg xmlns=\"http://www.w3.org/2000/svg\" height=\"24px\"viewBox=\"0 0 24 24\"\n",
              "       width=\"24px\">\n",
              "    <path d=\"M0 0h24v24H0V0z\" fill=\"none\"/>\n",
              "    <path d=\"M18.56 5.44l.94 2.06.94-2.06 2.06-.94-2.06-.94-.94-2.06-.94 2.06-2.06.94zm-11 1L8.5 8.5l.94-2.06 2.06-.94-2.06-.94L8.5 2.5l-.94 2.06-2.06.94zm10 10l.94 2.06.94-2.06 2.06-.94-2.06-.94-.94-2.06-.94 2.06-2.06.94z\"/><path d=\"M17.41 7.96l-1.37-1.37c-.4-.4-.92-.59-1.43-.59-.52 0-1.04.2-1.43.59L10.3 9.45l-7.72 7.72c-.78.78-.78 2.05 0 2.83L4 21.41c.39.39.9.59 1.41.59.51 0 1.02-.2 1.41-.59l7.78-7.78 2.81-2.81c.8-.78.8-2.07 0-2.86zM5.41 20L4 18.59l7.72-7.72 1.47 1.35L5.41 20z\"/>\n",
              "  </svg>\n",
              "      </button>\n",
              "      \n",
              "  <style>\n",
              "    .colab-df-container {\n",
              "      display:flex;\n",
              "      flex-wrap:wrap;\n",
              "      gap: 12px;\n",
              "    }\n",
              "\n",
              "    .colab-df-convert {\n",
              "      background-color: #E8F0FE;\n",
              "      border: none;\n",
              "      border-radius: 50%;\n",
              "      cursor: pointer;\n",
              "      display: none;\n",
              "      fill: #1967D2;\n",
              "      height: 32px;\n",
              "      padding: 0 0 0 0;\n",
              "      width: 32px;\n",
              "    }\n",
              "\n",
              "    .colab-df-convert:hover {\n",
              "      background-color: #E2EBFA;\n",
              "      box-shadow: 0px 1px 2px rgba(60, 64, 67, 0.3), 0px 1px 3px 1px rgba(60, 64, 67, 0.15);\n",
              "      fill: #174EA6;\n",
              "    }\n",
              "\n",
              "    [theme=dark] .colab-df-convert {\n",
              "      background-color: #3B4455;\n",
              "      fill: #D2E3FC;\n",
              "    }\n",
              "\n",
              "    [theme=dark] .colab-df-convert:hover {\n",
              "      background-color: #434B5C;\n",
              "      box-shadow: 0px 1px 3px 1px rgba(0, 0, 0, 0.15);\n",
              "      filter: drop-shadow(0px 1px 2px rgba(0, 0, 0, 0.3));\n",
              "      fill: #FFFFFF;\n",
              "    }\n",
              "  </style>\n",
              "\n",
              "      <script>\n",
              "        const buttonEl =\n",
              "          document.querySelector('#df-60ab34de-25c0-4dd9-bbda-23d80a316fd0 button.colab-df-convert');\n",
              "        buttonEl.style.display =\n",
              "          google.colab.kernel.accessAllowed ? 'block' : 'none';\n",
              "\n",
              "        async function convertToInteractive(key) {\n",
              "          const element = document.querySelector('#df-60ab34de-25c0-4dd9-bbda-23d80a316fd0');\n",
              "          const dataTable =\n",
              "            await google.colab.kernel.invokeFunction('convertToInteractive',\n",
              "                                                     [key], {});\n",
              "          if (!dataTable) return;\n",
              "\n",
              "          const docLinkHtml = 'Like what you see? Visit the ' +\n",
              "            '<a target=\"_blank\" href=https://colab.research.google.com/notebooks/data_table.ipynb>data table notebook</a>'\n",
              "            + ' to learn more about interactive tables.';\n",
              "          element.innerHTML = '';\n",
              "          dataTable['output_type'] = 'display_data';\n",
              "          await google.colab.output.renderOutput(dataTable, element);\n",
              "          const docLink = document.createElement('div');\n",
              "          docLink.innerHTML = docLinkHtml;\n",
              "          element.appendChild(docLink);\n",
              "        }\n",
              "      </script>\n",
              "    </div>\n",
              "  </div>\n",
              "  "
            ]
          },
          "metadata": {},
          "execution_count": 4
        }
      ]
    },
    {
      "cell_type": "markdown",
      "source": [
        "✍️ Again we shall store all the relevant fields in a list named \"x_fields\". Fill in the name of the relevant fields we would like to use for our prediction (reminder: we do not want to use the \"Date\" field).\n",
        "\n",
        "- You can basically copy this line from the last assignment."
      ],
      "metadata": {
        "id": "OOqpvBqhYNfw"
      }
    },
    {
      "cell_type": "code",
      "source": [
        "y_field = 'Rented Bike Count'\n",
        "\n",
        "## %%%%%%%%%%%%%%% Your code here - Begin %%%%%%%%%%%%%%%\n",
        "## Fill in the name of the relevant fields.\n",
        "x_fields = ['Hour', 'Temperature(°C)','Humidity(%)','Wind speed (m/s)','Visibility (10m)','Solar Radiation (MJ/m2)','Rainfall(mm)','Snowfall (cm)' ,'Day of the week']\n",
        "## %%%%%%%%%%%%%%% Your code here - End %%%%%%%%%%%%%%%%%"
      ],
      "metadata": {
        "id": "K1HM6EpCYNfx"
      },
      "execution_count": null,
      "outputs": []
    },
    {
      "cell_type": "markdown",
      "source": [
        "## Train-test split\n",
        "\n",
        "We shall divide the dataset into 80% train and 20% train.\n",
        "\n",
        "✍️ Copy the code from the last assignment in order to split the dataset"
      ],
      "metadata": {
        "id": "uHLl4auyYNfx"
      }
    },
    {
      "cell_type": "code",
      "source": [
        "n_samples = len(dataset)  # The total number of samples in the dataset\n",
        "\n",
        "## Generate a random generator with a fixed seed\n",
        "rand_gen = np.random.RandomState(0)\n",
        "\n",
        "## %%%%%%%%%%%%%%% Your code here - Begin %%%%%%%%%%%%%%%\n",
        "## Generating a shuffled vector of indices\n",
        "indices = np.arange(n_samples)\n",
        "rand_gen.shuffle(indices)\n",
        "\n",
        "## Split the indices into 80% train (full) / 20% test\n",
        "n_samples_train_full = int(n_samples * 0.8)\n",
        "train_full_indices = indices[:n_samples_train_full]\n",
        "test_indices = indices[n_samples_train_full:]\n",
        "## %%%%%%%%%%%%%%% Your code here - End %%%%%%%%%%%%%%%%%\n",
        "\n",
        "## Extract the sub datasets from the full dataset using the calculated indices\n",
        "train_full_set = dataset.iloc[train_full_indices]\n",
        "test_set = dataset.iloc[test_indices]"
      ],
      "metadata": {
        "id": "CZM6SNq-YNfx"
      },
      "execution_count": null,
      "outputs": []
    },
    {
      "cell_type": "markdown",
      "source": [
        "## Train - validation split\n",
        "\n",
        "We shall divide the train set into 75% train and 25% validation.\n",
        "\n",
        "✍️ Complete the following code to create a train-validation split similar to the train-test split above:"
      ],
      "metadata": {
        "id": "Le6F9su_YNfx"
      }
    },
    {
      "cell_type": "code",
      "source": [
        "## Generate a random generator with a fixed (different) seed\n",
        "rand_gen = np.random.RandomState(1)\n",
        "\n",
        "## %%%%%%%%%%%%%%% Your code here - Begin %%%%%%%%%%%%%%%\n",
        "## Generating a shuffled vector of indices\n",
        "indices = train_full_indices.copy()\n",
        "rand_gen.shuffle(indices)\n",
        "\n",
        "## Split the indices of the train (full) dataset into 75% train / 25% validation\n",
        "n_samples_train = int(n_samples_train_full*0.75)\n",
        "train_indices = indices[:n_samples_train]\n",
        "val_indices = indices[n_samples_train:]\n",
        "## %%%%%%%%%%%%%%% Your code here - End %%%%%%%%%%%%%%%%%\n",
        "\n",
        "## Extract the sub datasets from the full dataset using the calculated indices\n",
        "train_set = dataset.iloc[train_indices]\n",
        "val_set = dataset.iloc[val_indices]"
      ],
      "metadata": {
        "id": "lTXuJdO1YNfx"
      },
      "execution_count": null,
      "outputs": []
    },
    {
      "cell_type": "markdown",
      "source": [
        "## Extracting the features from the dataset\n",
        "\n",
        "✍️ Complete the following code to create the $X$ matrix and $\\boldsymbol{y}$ vector for a given dataset. In this case we only want one column per each field in \"x_fields\" (no high orders). The is not need to add a bias term."
      ],
      "metadata": {
        "id": "Zhzqo1X_YNfy"
      }
    },
    {
      "cell_type": "code",
      "source": [
        "def extract_x_y(dataset):\n",
        "    ## %%%%%%%%%%%%%%% Your code here - Begin %%%%%%%%%%%%%%%\n",
        "    features = []\n",
        "    for field in x_fields:\n",
        "        features.append(dataset[field].values)\n",
        "\n",
        "    x = np.stack(features, axis=1)\n",
        "    y = dataset[y_field].values\n",
        "    ## %%%%%%%%%%%%%%% Your code here - End %%%%%%%%%%%%%%%%%\n",
        "    return x, y\n",
        "\n",
        "x_train, y_train = extract_x_y(train_set)\n",
        "x_val, y_val = extract_x_y(val_set)\n",
        "x_train_full, y_train_full = extract_x_y(train_full_set)\n",
        "x_test, y_test = extract_x_y(test_set)"
      ],
      "metadata": {
        "id": "4nv2h8TqYNfy"
      },
      "execution_count": null,
      "outputs": []
    },
    {
      "cell_type": "markdown",
      "source": [
        "## A Decision Tree for Regression\n",
        "\n",
        "In call we have shown how a to use a decision tree to solve classification tasks. In this assignment we will show how they can also be used to solve regression problems. Specifically we will show how to do so for the case of an MSE / RMSE loss function.\n",
        "\n",
        "In order to make our algorithm for building the trees useful for regression problems, we will make 2 adjustments:\n",
        "\n",
        "1. The criteria which we will be using to select the best node to add will be the MSE (or the RMSE), replacing the Gini / entropy criteria.\n",
        "2. The final prediction in the leafs of the tree will be selected as the mean of the labels of the samples reaching each leaf, when applying the decision tree to the train set."
      ],
      "metadata": {
        "id": "bPAr4X9RYNfy"
      }
    },
    {
      "cell_type": "markdown",
      "source": [
        "## A Stump - A decision tree of depth 1\n",
        "\n",
        "We will start with a simple case of a tree of depth 1, i.e. a tree with a single split. Such decision trees are usually referred to as **stumps**. Since we are limiting our selves to splits of the form of $x_i\\geq\\alpha$, the stump has 4 parameters:\n",
        "\n",
        "- $i$: the index of the component of $\\boldsymbol{x}$ which we would like to compare.\n",
        "- $\\alpha$: the threshold.\n",
        "- The predictions for each of the two leafs.\n",
        "\n",
        "The following class implements a stump.\n",
        "\n",
        "- The values of $i$ and $\\alpha$ are fixed when the stump is created.\n",
        "- The prediction values in the leafs are updated when calling the \"fit\" method with a set of $X$ and $\\boldsymbol{y}$.\n",
        "- The split function is an auxiliary function which creates two sets of indices which can be used to  split the data according the the stump condition.\n",
        "- The predict method receives $X$ and produces a prediction $\\hat{\\boldsymbol{y}}$.\n",
        "\n",
        "✍️ Go over the code and complete the code in the fit method such that the stump will learn the optimal prediction in each leaf based on the given data (x and y).\n",
        "\n",
        "- Remember the optimal prediction in each node will be the mean value of the labels of the samples reaching each leaf.\n",
        "- The fit function has two \"if\" functions to check if the split didn't produce an empty split (using the \"any\" function). The values of the predictions should be updated only if the split is not empty, other wise the predictions should be left with their initial values (-1)."
      ],
      "metadata": {
        "id": "iKV9aK5oYNfy"
      }
    },
    {
      "cell_type": "code",
      "source": [
        "class Stump:\n",
        "    def __init__(self, field_num, threshold):\n",
        "        ## Initizalizing the stump with some fixed values of field_num (i) and threshold (alpha)\n",
        "        self.field_num = field_num\n",
        "        self.threshold = threshold\n",
        "\n",
        "        self.true_leaf_prediciton = -1  ## This is a place holder until the fit function is called\n",
        "        self.false_leaf_prediction = -1  ## This is a place holder until the fit function is called\n",
        "\n",
        "    def split(self, x):\n",
        "        ## An auxiliary function for generating indices for splitting the data.\n",
        "        true_indices = (x[:, self.field_num] >= self.threshold)\n",
        "        false_indices = (x[:, self.field_num] < self.threshold)\n",
        "        return true_indices, false_indices\n",
        "\n",
        "    def fit(self, x, y):\n",
        "        true_indices, false_indices = self.split(x)\n",
        "        ## %%%%%%%%%%%%%%% Your code here - Begin %%%%%%%%%%%%%%%\n",
        "        if true_indices.any():\n",
        "            self.true_leaf_prediciton = y[true_indices].mean()\n",
        "        if false_indices.any():\n",
        "            self.false_leaf_prediction = y[false_indices].mean()\n",
        "        ## %%%%%%%%%%%%%%% Your code here - End %%%%%%%%%%%%%%%%%\n",
        "\n",
        "    def predict(self, x):\n",
        "        y_hat = np.zeros(x.shape[0])\n",
        "        true_indices, false_indices = self.split(x)\n",
        "        y_hat[true_indices] = self.true_leaf_prediciton\n",
        "        y_hat[false_indices] = self.false_leaf_prediction\n",
        "        return y_hat\n",
        "\n",
        "## Test\n",
        "stump = Stump(0, 10)\n",
        "stump.fit(x_train, y_train)\n",
        "print(f'true_leaf_prediciton: {stump.true_leaf_prediciton}')\n",
        "print(f'false_leaf_prediction: {stump.false_leaf_prediction}')"
      ],
      "metadata": {
        "id": "lYGhQsXfYNfy",
        "colab": {
          "base_uri": "https://localhost:8080/"
        },
        "outputId": "3ac30d23-5ddd-4a07-daa4-9ba5fccfaaf8"
      },
      "execution_count": null,
      "outputs": [
        {
          "output_type": "stream",
          "name": "stdout",
          "text": [
            "true_leaf_prediciton: 946.0944937833037\n",
            "false_leaf_prediction: 461.5713577799802\n"
          ]
        }
      ]
    },
    {
      "cell_type": "markdown",
      "source": [
        "Make sure that you get results around 950 and 450 in the above cell.\n",
        "\n",
        "This function below uses a package named \"graphviz\" to plot stumps. You do not need to go over it."
      ],
      "metadata": {
        "id": "5zqULNr-YNfy"
      }
    },
    {
      "cell_type": "code",
      "source": [
        "from graphviz import Digraph  # A package for plothing graphs (of nodes and edges)\n",
        "def plot_stump(stump):\n",
        "    node_style = {'style': 'filled', 'fillcolor': '#DAE8FC', 'color': '#6C8EBF', 'penwidth': '3'}\n",
        "    edge_style = {'penwidth': '2'}\n",
        "\n",
        "    node_text = f'{x_fields[stump.field_num]} >= {int(stump.threshold)}'\n",
        "\n",
        "    tree_graph = Digraph()\n",
        "    tree_graph.node('root', '<<I><B>x</B></I>>', shape='plaintext')\n",
        "    tree_graph.edge('root', 'node', **edge_style)\n",
        "    tree_graph.node('node', node_text, **node_style)\n",
        "    tree_graph.edge('node', 'node_0', 'No', **edge_style)\n",
        "    tree_graph.node('node_0', f'{int(stump.false_leaf_prediction)}', shape='plaintext')\n",
        "    tree_graph.edge('node', 'node_1', 'Yes', **edge_style)\n",
        "    tree_graph.node('node_1', f'{int(stump.true_leaf_prediciton)}', shape='plaintext')\n",
        "    return tree_graph"
      ],
      "metadata": {
        "id": "Ow-jXuWkYNfz"
      },
      "execution_count": null,
      "outputs": []
    },
    {
      "cell_type": "code",
      "source": [
        "plot_stump(stump)"
      ],
      "metadata": {
        "id": "zKUWVHHDYNfz",
        "colab": {
          "base_uri": "https://localhost:8080/",
          "height": 293
        },
        "outputId": "f7a386ee-c685-4978-e8e5-5733277f297b"
      },
      "execution_count": null,
      "outputs": [
        {
          "output_type": "execute_result",
          "data": {
            "image/svg+xml": "<?xml version=\"1.0\" encoding=\"UTF-8\" standalone=\"no\"?>\n<!DOCTYPE svg PUBLIC \"-//W3C//DTD SVG 1.1//EN\"\n \"http://www.w3.org/Graphics/SVG/1.1/DTD/svg11.dtd\">\n<!-- Generated by graphviz version 2.43.0 (0)\n -->\n<!-- Title: %3 Pages: 1 -->\n<svg width=\"134pt\" height=\"204pt\"\n viewBox=\"0.00 0.00 134.00 204.00\" xmlns=\"http://www.w3.org/2000/svg\" xmlns:xlink=\"http://www.w3.org/1999/xlink\">\n<g id=\"graph0\" class=\"graph\" transform=\"scale(1 1) rotate(0) translate(4 200)\">\n<title>%3</title>\n<polygon fill=\"white\" stroke=\"transparent\" points=\"-4,4 -4,-200 130,-200 130,4 -4,4\"/>\n<!-- root -->\n<g id=\"node1\" class=\"node\">\n<title>root</title>\n<text text-anchor=\"start\" x=\"59.5\" y=\"-175.3\" font-family=\"Times,serif\" font-weight=\"bold\" font-style=\"italic\" font-size=\"14.00\">x</text>\n</g>\n<!-- node -->\n<g id=\"node2\" class=\"node\">\n<title>node</title>\n<ellipse fill=\"#dae8fc\" stroke=\"#6c8ebf\" stroke-width=\"3\" cx=\"63\" cy=\"-105\" rx=\"53.09\" ry=\"18\"/>\n<text text-anchor=\"middle\" x=\"63\" y=\"-101.3\" font-family=\"Times,serif\" font-size=\"14.00\">Hour &gt;= 10</text>\n</g>\n<!-- root&#45;&gt;node -->\n<g id=\"edge1\" class=\"edge\">\n<title>root&#45;&gt;node</title>\n<path fill=\"none\" stroke=\"black\" stroke-width=\"2\" d=\"M63,-159.81C63,-151.79 63,-142.05 63,-133.07\"/>\n<polygon fill=\"black\" stroke=\"black\" stroke-width=\"2\" points=\"66.5,-133.03 63,-123.03 59.5,-133.03 66.5,-133.03\"/>\n</g>\n<!-- node_0 -->\n<g id=\"node3\" class=\"node\">\n<title>node_0</title>\n<text text-anchor=\"middle\" x=\"27\" y=\"-14.3\" font-family=\"Times,serif\" font-size=\"14.00\">461</text>\n</g>\n<!-- node&#45;&gt;node_0 -->\n<g id=\"edge2\" class=\"edge\">\n<title>node&#45;&gt;node_0</title>\n<path fill=\"none\" stroke=\"black\" stroke-width=\"2\" d=\"M55.71,-86.8C50.69,-74.93 43.91,-58.93 38.2,-45.45\"/>\n<polygon fill=\"black\" stroke=\"black\" stroke-width=\"2\" points=\"41.4,-44.02 34.27,-36.18 34.95,-46.75 41.4,-44.02\"/>\n<text text-anchor=\"middle\" x=\"56.5\" y=\"-57.8\" font-family=\"Times,serif\" font-size=\"14.00\">No</text>\n</g>\n<!-- node_1 -->\n<g id=\"node4\" class=\"node\">\n<title>node_1</title>\n<text text-anchor=\"middle\" x=\"99\" y=\"-14.3\" font-family=\"Times,serif\" font-size=\"14.00\">946</text>\n</g>\n<!-- node&#45;&gt;node_1 -->\n<g id=\"edge3\" class=\"edge\">\n<title>node&#45;&gt;node_1</title>\n<path fill=\"none\" stroke=\"black\" stroke-width=\"2\" d=\"M70.29,-86.8C75.31,-74.93 82.09,-58.93 87.8,-45.45\"/>\n<polygon fill=\"black\" stroke=\"black\" stroke-width=\"2\" points=\"91.05,-46.75 91.73,-36.18 84.6,-44.02 91.05,-46.75\"/>\n<text text-anchor=\"middle\" x=\"93.5\" y=\"-57.8\" font-family=\"Times,serif\" font-size=\"14.00\">Yes</text>\n</g>\n</g>\n</svg>\n",
            "text/plain": [
              "<graphviz.graphs.Digraph at 0x7f21953a8c70>"
            ]
          },
          "metadata": {},
          "execution_count": 11
        }
      ]
    },
    {
      "cell_type": "markdown",
      "source": [
        "Let's look at some predictions"
      ],
      "metadata": {
        "id": "4_1arsyNYNfz"
      }
    },
    {
      "cell_type": "code",
      "source": [
        "print(f'x1 values (hour): {x_train[:10, 0]}')\n",
        "print(f'Predictions     : {stump.predict(x_train).astype(int)[:10]}')"
      ],
      "metadata": {
        "id": "fH4KEFPxYNfz",
        "colab": {
          "base_uri": "https://localhost:8080/"
        },
        "outputId": "a9457bab-8527-4af2-9607-425797fb3bb6"
      },
      "execution_count": null,
      "outputs": [
        {
          "output_type": "stream",
          "name": "stdout",
          "text": [
            "x1 values (hour): [21.  8.  8.  9. 10.  9.  1.  6. 17.  9.]\n",
            "Predictions     : [946 461 461 461 946 461 461 461 946 461]\n"
          ]
        }
      ]
    },
    {
      "cell_type": "markdown",
      "source": [
        "## Calculating the RMSE\n",
        "\n",
        "Since we will use RMSE both to select the node to add at each step and to evaluated the out model, let's implement a function which calculated the RMSE for a given model and a dataset ($X$ and $\\boldsymbol{y}$).\n",
        "\n",
        "✍️ Complete the code below so that it will compute the RMSE of the model in the given dataset."
      ],
      "metadata": {
        "id": "1gjAYFC3YNfz"
      }
    },
    {
      "cell_type": "code",
      "source": [
        "def calc_model_rmse(model, x, y):\n",
        "    y_hat = model.predict(x)\n",
        "    ## %%%%%%%%%%%%%%% Your code here - Begin %%%%%%%%%%%%%%%\n",
        "    rmse = np.sqrt((1/(len(y)))*np.sum(((y_hat-y)**2)))\n",
        "    ## %%%%%%%%%%%%%%% Your code here - End %%%%%%%%%%%%%%%%%\n",
        "    return rmse\n",
        "\n",
        "calc_model_rmse(stump, x_train, y_train)"
      ],
      "metadata": {
        "id": "4x_gbtL5YNfz",
        "colab": {
          "base_uri": "https://localhost:8080/"
        },
        "outputId": "a45e4004-874a-4338-fcbe-29df16c63e9f"
      },
      "execution_count": null,
      "outputs": [
        {
          "output_type": "execute_result",
          "data": {
            "text/plain": [
              "603.2358102828449"
            ]
          },
          "metadata": {},
          "execution_count": 13
        }
      ]
    },
    {
      "cell_type": "markdown",
      "source": [
        "## Searching for the best stump\n",
        "\n",
        "Since the greedy algorithm for growing the trees looks for the best stump in each step, we need to implement a function which find that stump for a given dataset. We will do so by going over all the possible stumps.\n",
        "\n",
        "✍️ Complete the code which searches for the best stump:"
      ],
      "metadata": {
        "id": "0ndmRSPvYNf0"
      }
    },
    {
      "cell_type": "code",
      "source": [
        "def find_best_stump(x, y):\n",
        "    best_stump = None\n",
        "    best_score = np.inf\n",
        "    for field_num in range(x.shape[1]):  # Go over all fields\n",
        "        for val in x[:, field_num]:  # Go over all relevant threshold\n",
        "            ## %%%%%%%%%%%%%%% Your code here - Begin %%%%%%%%%%%%%%%\n",
        "            stump = Stump(field_num, val)  # Build a stump with the given field and threshold\n",
        "            stump.fit(x,y)  ## Do some additional processing\n",
        "            score = calc_model_rmse(stump, x, y) ## Calculate the RMSE score for the stump\n",
        "            if score < best_score: ## If it is better that the best stump so far store it as the best\n",
        "                best_stump = stump\n",
        "                best_score = score\n",
        "            ## %%%%%%%%%%%%%%% Your code here - End %%%%%%%%%%%%%%%%%\n",
        "    return best_stump, best_score\n",
        "\n",
        "best_stump, best_score = find_best_stump(x_train, y_train)\n",
        "print(best_score)\n",
        "plot_stump(best_stump)"
      ],
      "metadata": {
        "id": "YY2sZo6vYNf0",
        "colab": {
          "base_uri": "https://localhost:8080/",
          "height": 310
        },
        "outputId": "3b5243b4-1db0-45e0-f9a4-c51404a8d04d"
      },
      "execution_count": null,
      "outputs": [
        {
          "output_type": "stream",
          "name": "stdout",
          "text": [
            "556.3287243600591\n"
          ]
        },
        {
          "output_type": "execute_result",
          "data": {
            "image/svg+xml": "<?xml version=\"1.0\" encoding=\"UTF-8\" standalone=\"no\"?>\n<!DOCTYPE svg PUBLIC \"-//W3C//DTD SVG 1.1//EN\"\n \"http://www.w3.org/Graphics/SVG/1.1/DTD/svg11.dtd\">\n<!-- Generated by graphviz version 2.43.0 (0)\n -->\n<!-- Title: %3 Pages: 1 -->\n<svg width=\"198pt\" height=\"204pt\"\n viewBox=\"0.00 0.00 197.78 204.00\" xmlns=\"http://www.w3.org/2000/svg\" xmlns:xlink=\"http://www.w3.org/1999/xlink\">\n<g id=\"graph0\" class=\"graph\" transform=\"scale(1 1) rotate(0) translate(4 200)\">\n<title>%3</title>\n<polygon fill=\"white\" stroke=\"transparent\" points=\"-4,4 -4,-200 193.78,-200 193.78,4 -4,4\"/>\n<!-- root -->\n<g id=\"node1\" class=\"node\">\n<title>root</title>\n<text text-anchor=\"start\" x=\"91.39\" y=\"-175.3\" font-family=\"Times,serif\" font-weight=\"bold\" font-style=\"italic\" font-size=\"14.00\">x</text>\n</g>\n<!-- node -->\n<g id=\"node2\" class=\"node\">\n<title>node</title>\n<ellipse fill=\"#dae8fc\" stroke=\"#6c8ebf\" stroke-width=\"3\" cx=\"94.89\" cy=\"-105\" rx=\"94.78\" ry=\"18\"/>\n<text text-anchor=\"middle\" x=\"94.89\" y=\"-101.3\" font-family=\"Times,serif\" font-size=\"14.00\">Temperature(°C) &gt;= 11</text>\n</g>\n<!-- root&#45;&gt;node -->\n<g id=\"edge1\" class=\"edge\">\n<title>root&#45;&gt;node</title>\n<path fill=\"none\" stroke=\"black\" stroke-width=\"2\" d=\"M94.89,-159.81C94.89,-151.79 94.89,-142.05 94.89,-133.07\"/>\n<polygon fill=\"black\" stroke=\"black\" stroke-width=\"2\" points=\"98.39,-133.03 94.89,-123.03 91.39,-133.03 98.39,-133.03\"/>\n</g>\n<!-- node_0 -->\n<g id=\"node3\" class=\"node\">\n<title>node_0</title>\n<text text-anchor=\"middle\" x=\"58.89\" y=\"-14.3\" font-family=\"Times,serif\" font-size=\"14.00\">364</text>\n</g>\n<!-- node&#45;&gt;node_0 -->\n<g id=\"edge2\" class=\"edge\">\n<title>node&#45;&gt;node_0</title>\n<path fill=\"none\" stroke=\"black\" stroke-width=\"2\" d=\"M87.61,-86.8C82.58,-74.93 75.8,-58.93 70.09,-45.45\"/>\n<polygon fill=\"black\" stroke=\"black\" stroke-width=\"2\" points=\"73.29,-44.02 66.17,-36.18 66.84,-46.75 73.29,-44.02\"/>\n<text text-anchor=\"middle\" x=\"88.39\" y=\"-57.8\" font-family=\"Times,serif\" font-size=\"14.00\">No</text>\n</g>\n<!-- node_1 -->\n<g id=\"node4\" class=\"node\">\n<title>node_1</title>\n<text text-anchor=\"middle\" x=\"130.89\" y=\"-14.3\" font-family=\"Times,serif\" font-size=\"14.00\">1038</text>\n</g>\n<!-- node&#45;&gt;node_1 -->\n<g id=\"edge3\" class=\"edge\">\n<title>node&#45;&gt;node_1</title>\n<path fill=\"none\" stroke=\"black\" stroke-width=\"2\" d=\"M102.18,-86.8C107.2,-74.93 113.98,-58.93 119.69,-45.45\"/>\n<polygon fill=\"black\" stroke=\"black\" stroke-width=\"2\" points=\"122.94,-46.75 123.62,-36.18 116.49,-44.02 122.94,-46.75\"/>\n<text text-anchor=\"middle\" x=\"125.39\" y=\"-57.8\" font-family=\"Times,serif\" font-size=\"14.00\">Yes</text>\n</g>\n</g>\n</svg>\n",
            "text/plain": [
              "<graphviz.graphs.Digraph at 0x7f21951c77c0>"
            ]
          },
          "metadata": {},
          "execution_count": 14
        }
      ]
    },
    {
      "cell_type": "markdown",
      "source": [
        "Make sure you get a split according to the temperature."
      ],
      "metadata": {
        "id": "rNDq5yVJYNf0"
      }
    },
    {
      "cell_type": "markdown",
      "source": [
        "## Deeper Trees\n",
        "\n",
        "Below is an implementation of a node in a general tree with an arbitrary depth. Each node object can be either a leaf or a split (like a stump). For the case where the node is a split it points to the two next nodes in the tree.\n",
        "\n",
        "Each node is initialized as a leaf with a fixed prediction and can later become a split in the growing process. When the growing function is called on a node which is a leaf, it uses the \"find_best_stump\" function to search for the optimal split which will replace the leaf. When the growing function is called on a node which is a split, it splits the data and calls the growing function on the child nodes.\n",
        "\n",
        "This class is already fully implemented including the growing function and the pruning function and it is built upon the function which we had defined so far. You are encouraged to go over it and try to make sure you understand how the growing process works and the pruning work."
      ],
      "metadata": {
        "id": "siCruxlEYNf0"
      }
    },
    {
      "cell_type": "code",
      "source": [
        "class Node:\n",
        "    def __init__(self, prediction):\n",
        "        self.is_leaf = True\n",
        "\n",
        "        self.prediction = prediction\n",
        "\n",
        "        self.field_num = None\n",
        "        self.threshold = None\n",
        "        self.node_true = None\n",
        "        self.node_false = None\n",
        "\n",
        "    def split(self, x):\n",
        "        true_indices = (x[:, self.field_num] >= self.threshold)\n",
        "        false_indices = (x[:, self.field_num] < self.threshold)\n",
        "        return true_indices, false_indices\n",
        "\n",
        "    def predict(self, x):\n",
        "        y_hat = np.zeros(x.shape[0])\n",
        "        if self.is_leaf:\n",
        "            y_hat[:] = self.prediction\n",
        "        else:\n",
        "            true_indices, false_indices = self.split(x)\n",
        "            y_hat[true_indices] = self.node_true.predict(x[true_indices])\n",
        "            y_hat[false_indices] = self.node_false.predict(x[false_indices])\n",
        "        return y_hat\n",
        "\n",
        "    def grow_one_level(self, x, y):\n",
        "        if not self.is_leaf:\n",
        "            true_indices, false_indices = self.split(x)\n",
        "            self.node_true.grow_one_level(x[true_indices], y[true_indices])\n",
        "            self.node_false.grow_one_level(x[false_indices], y[false_indices])\n",
        "        else:\n",
        "            score_before = calc_model_rmse(self, x, y)\n",
        "            best_stump, best_score = find_best_stump(x, y)\n",
        "            if best_score < score_before:\n",
        "                self.is_leaf = False\n",
        "                self.field_num = best_stump.field_num\n",
        "                self.threshold = best_stump.threshold\n",
        "                self.node_true = Node(best_stump.true_leaf_prediciton)\n",
        "                self.node_false = Node(best_stump.false_leaf_prediction)\n",
        "\n",
        "    def prune(self, x, y):\n",
        "        if not self.is_leaf:\n",
        "            true_indices, false_indices = self.split(x)\n",
        "            if not (true_indices.any() and false_indices.any()):\n",
        "                self.is_leaf = True\n",
        "            else:\n",
        "                self.node_true.prune(x[true_indices], y[true_indices])\n",
        "                self.node_false.prune(x[false_indices], y[false_indices])\n",
        "                if self.node_true.is_leaf and self.node_false.is_leaf:\n",
        "                    score_with = calc_model_rmse(self, x, y)\n",
        "                    self.is_leaf = True\n",
        "                    score_without = calc_model_rmse(self, x, y)\n",
        "                    if score_with < score_without:\n",
        "                        self.is_leaf = False"
      ],
      "metadata": {
        "id": "DbwnHr7cYNf0"
      },
      "execution_count": null,
      "outputs": []
    },
    {
      "cell_type": "markdown",
      "source": [
        "And a function to plot the tree:"
      ],
      "metadata": {
        "id": "NZGcFvOeYNf0"
      }
    },
    {
      "cell_type": "code",
      "source": [
        "def plot_tree(tree):\n",
        "    node_style = {'style': 'filled', 'fillcolor': '#DAE8FC', 'color': '#6C8EBF', 'penwidth': '3'}\n",
        "    edge_style = {'penwidth': '2'}\n",
        "\n",
        "    def add_node_to_tree(node, index):\n",
        "        if node.is_leaf:\n",
        "            tree_graph.node(index, f'{int(node.prediction)}', shape='plaintext')\n",
        "        else:\n",
        "            node_text = f'{x_fields[node.field_num]} >= {int(node.threshold)}'\n",
        "            tree_graph.node(index, node_text, **node_style)\n",
        "            tree_graph.edge(index, index + '_0', 'No', **edge_style)\n",
        "            add_node_to_tree(node.node_false, index + '_0')\n",
        "            tree_graph.edge(index, index + '_1', 'Yes', **edge_style)\n",
        "            add_node_to_tree(node.node_true, index + '_1')\n",
        "\n",
        "    tree_graph = Digraph(comment='Tree')\n",
        "    tree_graph.format = 'png'\n",
        "    tree_graph.node('root', '<<I><B>x</B></I>>', shape='plaintext')\n",
        "    tree_graph.edge('root', 'node', **edge_style)\n",
        "    add_node_to_tree(tree, 'node')\n",
        "\n",
        "    return tree_graph"
      ],
      "metadata": {
        "id": "n5jaKAnBYNf0"
      },
      "execution_count": null,
      "outputs": []
    },
    {
      "cell_type": "markdown",
      "source": [
        "## Growing a tree\n",
        "\n",
        "### Depth = 0\n",
        "\n",
        "We will start with a tree of 0 depth (only a single leaf). We will initialized it with the optimal constant predictor which is the mean value of the labels over all the train set."
      ],
      "metadata": {
        "id": "lUwrxswsYNf1"
      }
    },
    {
      "cell_type": "code",
      "source": [
        "tree = Node(y_train.mean())\n",
        "print(f'The RMSE score in the train is: {calc_model_rmse(tree, x_train, y_train):.2f}')\n",
        "print(f'The RMSE score in the validation is: {calc_model_rmse(tree, x_val, y_val):.2f}')\n",
        "plot_tree(tree)"
      ],
      "metadata": {
        "id": "qsyF46yWYNf1",
        "colab": {
          "base_uri": "https://localhost:8080/",
          "height": 210
        },
        "outputId": "477c5b49-3a91-477e-c01b-3b82a79163a3"
      },
      "execution_count": null,
      "outputs": [
        {
          "output_type": "stream",
          "name": "stdout",
          "text": [
            "The RMSE score in the train is: 648.84\n",
            "The RMSE score in the validation is: 642.39\n"
          ]
        },
        {
          "output_type": "execute_result",
          "data": {
            "image/svg+xml": "<?xml version=\"1.0\" encoding=\"UTF-8\" standalone=\"no\"?>\n<!DOCTYPE svg PUBLIC \"-//W3C//DTD SVG 1.1//EN\"\n \"http://www.w3.org/Graphics/SVG/1.1/DTD/svg11.dtd\">\n<!-- Generated by graphviz version 2.43.0 (0)\n -->\n<!-- Title: %3 Pages: 1 -->\n<svg width=\"62pt\" height=\"116pt\"\n viewBox=\"0.00 0.00 62.00 116.00\" xmlns=\"http://www.w3.org/2000/svg\" xmlns:xlink=\"http://www.w3.org/1999/xlink\">\n<g id=\"graph0\" class=\"graph\" transform=\"scale(1 1) rotate(0) translate(4 112)\">\n<title>%3</title>\n<polygon fill=\"white\" stroke=\"transparent\" points=\"-4,4 -4,-112 58,-112 58,4 -4,4\"/>\n<!-- root -->\n<g id=\"node1\" class=\"node\">\n<title>root</title>\n<text text-anchor=\"start\" x=\"23.5\" y=\"-87.3\" font-family=\"Times,serif\" font-weight=\"bold\" font-style=\"italic\" font-size=\"14.00\">x</text>\n</g>\n<!-- node -->\n<g id=\"node2\" class=\"node\">\n<title>node</title>\n<text text-anchor=\"middle\" x=\"27\" y=\"-14.3\" font-family=\"Times,serif\" font-size=\"14.00\">743</text>\n</g>\n<!-- root&#45;&gt;node -->\n<g id=\"edge1\" class=\"edge\">\n<title>root&#45;&gt;node</title>\n<path fill=\"none\" stroke=\"black\" stroke-width=\"2\" d=\"M27,-71.7C27,-63.98 27,-54.71 27,-46.11\"/>\n<polygon fill=\"black\" stroke=\"black\" stroke-width=\"2\" points=\"30.5,-46.1 27,-36.1 23.5,-46.1 30.5,-46.1\"/>\n</g>\n</g>\n</svg>\n",
            "text/plain": [
              "<graphviz.graphs.Digraph at 0x7f21952330a0>"
            ]
          },
          "metadata": {},
          "execution_count": 17
        }
      ]
    },
    {
      "cell_type": "markdown",
      "source": [
        "### Depth = 1\n",
        "\n",
        "We will now call the \"grow_one_level\" function to add an extra layer to the tree:"
      ],
      "metadata": {
        "id": "na5lRWF4YNf1"
      }
    },
    {
      "cell_type": "code",
      "source": [
        "tree.grow_one_level(x_train, y_train)\n",
        "print(f'The RMSE score in the train is: {calc_model_rmse(tree, x_train, y_train):.2f}')\n",
        "print(f'The RMSE score in the validation is: {calc_model_rmse(tree, x_val, y_val):.2f}')\n",
        "plot_tree(tree)"
      ],
      "metadata": {
        "id": "RgYD7hxRYNf1",
        "colab": {
          "base_uri": "https://localhost:8080/",
          "height": 328
        },
        "outputId": "9c969710-6533-43bc-e052-6ed250d34c7b"
      },
      "execution_count": null,
      "outputs": [
        {
          "output_type": "stream",
          "name": "stdout",
          "text": [
            "The RMSE score in the train is: 556.33\n",
            "The RMSE score in the validation is: 541.58\n"
          ]
        },
        {
          "output_type": "execute_result",
          "data": {
            "image/svg+xml": "<?xml version=\"1.0\" encoding=\"UTF-8\" standalone=\"no\"?>\n<!DOCTYPE svg PUBLIC \"-//W3C//DTD SVG 1.1//EN\"\n \"http://www.w3.org/Graphics/SVG/1.1/DTD/svg11.dtd\">\n<!-- Generated by graphviz version 2.43.0 (0)\n -->\n<!-- Title: %3 Pages: 1 -->\n<svg width=\"198pt\" height=\"204pt\"\n viewBox=\"0.00 0.00 197.78 204.00\" xmlns=\"http://www.w3.org/2000/svg\" xmlns:xlink=\"http://www.w3.org/1999/xlink\">\n<g id=\"graph0\" class=\"graph\" transform=\"scale(1 1) rotate(0) translate(4 200)\">\n<title>%3</title>\n<polygon fill=\"white\" stroke=\"transparent\" points=\"-4,4 -4,-200 193.78,-200 193.78,4 -4,4\"/>\n<!-- root -->\n<g id=\"node1\" class=\"node\">\n<title>root</title>\n<text text-anchor=\"start\" x=\"91.39\" y=\"-175.3\" font-family=\"Times,serif\" font-weight=\"bold\" font-style=\"italic\" font-size=\"14.00\">x</text>\n</g>\n<!-- node -->\n<g id=\"node2\" class=\"node\">\n<title>node</title>\n<ellipse fill=\"#dae8fc\" stroke=\"#6c8ebf\" stroke-width=\"3\" cx=\"94.89\" cy=\"-105\" rx=\"94.78\" ry=\"18\"/>\n<text text-anchor=\"middle\" x=\"94.89\" y=\"-101.3\" font-family=\"Times,serif\" font-size=\"14.00\">Temperature(°C) &gt;= 11</text>\n</g>\n<!-- root&#45;&gt;node -->\n<g id=\"edge1\" class=\"edge\">\n<title>root&#45;&gt;node</title>\n<path fill=\"none\" stroke=\"black\" stroke-width=\"2\" d=\"M94.89,-159.81C94.89,-151.79 94.89,-142.05 94.89,-133.07\"/>\n<polygon fill=\"black\" stroke=\"black\" stroke-width=\"2\" points=\"98.39,-133.03 94.89,-123.03 91.39,-133.03 98.39,-133.03\"/>\n</g>\n<!-- node_0 -->\n<g id=\"node3\" class=\"node\">\n<title>node_0</title>\n<text text-anchor=\"middle\" x=\"58.89\" y=\"-14.3\" font-family=\"Times,serif\" font-size=\"14.00\">364</text>\n</g>\n<!-- node&#45;&gt;node_0 -->\n<g id=\"edge2\" class=\"edge\">\n<title>node&#45;&gt;node_0</title>\n<path fill=\"none\" stroke=\"black\" stroke-width=\"2\" d=\"M87.61,-86.8C82.58,-74.93 75.8,-58.93 70.09,-45.45\"/>\n<polygon fill=\"black\" stroke=\"black\" stroke-width=\"2\" points=\"73.29,-44.02 66.17,-36.18 66.84,-46.75 73.29,-44.02\"/>\n<text text-anchor=\"middle\" x=\"88.39\" y=\"-57.8\" font-family=\"Times,serif\" font-size=\"14.00\">No</text>\n</g>\n<!-- node_1 -->\n<g id=\"node4\" class=\"node\">\n<title>node_1</title>\n<text text-anchor=\"middle\" x=\"130.89\" y=\"-14.3\" font-family=\"Times,serif\" font-size=\"14.00\">1038</text>\n</g>\n<!-- node&#45;&gt;node_1 -->\n<g id=\"edge3\" class=\"edge\">\n<title>node&#45;&gt;node_1</title>\n<path fill=\"none\" stroke=\"black\" stroke-width=\"2\" d=\"M102.18,-86.8C107.2,-74.93 113.98,-58.93 119.69,-45.45\"/>\n<polygon fill=\"black\" stroke=\"black\" stroke-width=\"2\" points=\"122.94,-46.75 123.62,-36.18 116.49,-44.02 122.94,-46.75\"/>\n<text text-anchor=\"middle\" x=\"125.39\" y=\"-57.8\" font-family=\"Times,serif\" font-size=\"14.00\">Yes</text>\n</g>\n</g>\n</svg>\n",
            "text/plain": [
              "<graphviz.graphs.Digraph at 0x7f2195232920>"
            ]
          },
          "metadata": {},
          "execution_count": 18
        }
      ]
    },
    {
      "cell_type": "markdown",
      "source": [
        "## Depth = 2"
      ],
      "metadata": {
        "id": "6PB8H9_TYNf7"
      }
    },
    {
      "cell_type": "code",
      "source": [
        "tree.grow_one_level(x_train, y_train)\n",
        "print(f'The RMSE score in the train is: {calc_model_rmse(tree, x_train, y_train):.2f}')\n",
        "print(f'The RMSE score in the validation is: {calc_model_rmse(tree, x_val, y_val):.2f}')\n",
        "plot_tree(tree)"
      ],
      "metadata": {
        "id": "0CIo1R25YNf7",
        "colab": {
          "base_uri": "https://localhost:8080/",
          "height": 444
        },
        "outputId": "cfcbf9e4-6c39-48dc-d4f7-e92ccd527e99"
      },
      "execution_count": null,
      "outputs": [
        {
          "output_type": "stream",
          "name": "stdout",
          "text": [
            "The RMSE score in the train is: 470.44\n",
            "The RMSE score in the validation is: 450.50\n"
          ]
        },
        {
          "output_type": "execute_result",
          "data": {
            "image/svg+xml": "<?xml version=\"1.0\" encoding=\"UTF-8\" standalone=\"no\"?>\n<!DOCTYPE svg PUBLIC \"-//W3C//DTD SVG 1.1//EN\"\n \"http://www.w3.org/Graphics/SVG/1.1/DTD/svg11.dtd\">\n<!-- Generated by graphviz version 2.43.0 (0)\n -->\n<!-- Title: %3 Pages: 1 -->\n<svg width=\"319pt\" height=\"291pt\"\n viewBox=\"0.00 0.00 318.99 291.00\" xmlns=\"http://www.w3.org/2000/svg\" xmlns:xlink=\"http://www.w3.org/1999/xlink\">\n<g id=\"graph0\" class=\"graph\" transform=\"scale(1 1) rotate(0) translate(4 287)\">\n<title>%3</title>\n<polygon fill=\"white\" stroke=\"transparent\" points=\"-4,4 -4,-287 314.99,-287 314.99,4 -4,4\"/>\n<!-- root -->\n<g id=\"node1\" class=\"node\">\n<title>root</title>\n<text text-anchor=\"start\" x=\"168.49\" y=\"-262.3\" font-family=\"Times,serif\" font-weight=\"bold\" font-style=\"italic\" font-size=\"14.00\">x</text>\n</g>\n<!-- node -->\n<g id=\"node2\" class=\"node\">\n<title>node</title>\n<ellipse fill=\"#dae8fc\" stroke=\"#6c8ebf\" stroke-width=\"3\" cx=\"171.99\" cy=\"-192\" rx=\"94.78\" ry=\"18\"/>\n<text text-anchor=\"middle\" x=\"171.99\" y=\"-188.3\" font-family=\"Times,serif\" font-size=\"14.00\">Temperature(°C) &gt;= 11</text>\n</g>\n<!-- root&#45;&gt;node -->\n<g id=\"edge1\" class=\"edge\">\n<title>root&#45;&gt;node</title>\n<path fill=\"none\" stroke=\"black\" stroke-width=\"2\" d=\"M171.99,-246.81C171.99,-238.79 171.99,-229.05 171.99,-220.07\"/>\n<polygon fill=\"black\" stroke=\"black\" stroke-width=\"2\" points=\"175.49,-220.03 171.99,-210.03 168.49,-220.03 175.49,-220.03\"/>\n</g>\n<!-- node_0 -->\n<g id=\"node3\" class=\"node\">\n<title>node_0</title>\n<ellipse fill=\"#dae8fc\" stroke=\"#6c8ebf\" stroke-width=\"3\" cx=\"90.99\" cy=\"-105\" rx=\"90.98\" ry=\"18\"/>\n<text text-anchor=\"middle\" x=\"90.99\" y=\"-101.3\" font-family=\"Times,serif\" font-size=\"14.00\">Temperature(°C) &gt;= 3</text>\n</g>\n<!-- node&#45;&gt;node_0 -->\n<g id=\"edge2\" class=\"edge\">\n<title>node&#45;&gt;node_0</title>\n<path fill=\"none\" stroke=\"black\" stroke-width=\"2\" d=\"M155.99,-174.21C144.01,-161.63 127.44,-144.25 114.04,-130.18\"/>\n<polygon fill=\"black\" stroke=\"black\" stroke-width=\"2\" points=\"116.39,-127.58 106.96,-122.76 111.33,-132.41 116.39,-127.58\"/>\n<text text-anchor=\"middle\" x=\"145.49\" y=\"-144.8\" font-family=\"Times,serif\" font-size=\"14.00\">No</text>\n</g>\n<!-- node_1 -->\n<g id=\"node6\" class=\"node\">\n<title>node_1</title>\n<ellipse fill=\"#dae8fc\" stroke=\"#6c8ebf\" stroke-width=\"3\" cx=\"252.99\" cy=\"-105\" rx=\"53.09\" ry=\"18\"/>\n<text text-anchor=\"middle\" x=\"252.99\" y=\"-101.3\" font-family=\"Times,serif\" font-size=\"14.00\">Hour &gt;= 16</text>\n</g>\n<!-- node&#45;&gt;node_1 -->\n<g id=\"edge5\" class=\"edge\">\n<title>node&#45;&gt;node_1</title>\n<path fill=\"none\" stroke=\"black\" stroke-width=\"2\" d=\"M187.99,-174.21C200.05,-161.55 216.76,-144.03 230.21,-129.91\"/>\n<polygon fill=\"black\" stroke=\"black\" stroke-width=\"2\" points=\"232.93,-132.12 237.3,-122.47 227.87,-127.29 232.93,-132.12\"/>\n<text text-anchor=\"middle\" x=\"227.49\" y=\"-144.8\" font-family=\"Times,serif\" font-size=\"14.00\">Yes</text>\n</g>\n<!-- node_0_0 -->\n<g id=\"node4\" class=\"node\">\n<title>node_0_0</title>\n<text text-anchor=\"middle\" x=\"58.99\" y=\"-14.3\" font-family=\"Times,serif\" font-size=\"14.00\">236</text>\n</g>\n<!-- node_0&#45;&gt;node_0_0 -->\n<g id=\"edge3\" class=\"edge\">\n<title>node_0&#45;&gt;node_0_0</title>\n<path fill=\"none\" stroke=\"black\" stroke-width=\"2\" d=\"M84.52,-86.8C80.09,-75.05 74.14,-59.24 69.1,-45.84\"/>\n<polygon fill=\"black\" stroke=\"black\" stroke-width=\"2\" points=\"72.26,-44.3 65.46,-36.18 65.71,-46.77 72.26,-44.3\"/>\n<text text-anchor=\"middle\" x=\"85.49\" y=\"-57.8\" font-family=\"Times,serif\" font-size=\"14.00\">No</text>\n</g>\n<!-- node_0_1 -->\n<g id=\"node5\" class=\"node\">\n<title>node_0_1</title>\n<text text-anchor=\"middle\" x=\"130.99\" y=\"-14.3\" font-family=\"Times,serif\" font-size=\"14.00\">521</text>\n</g>\n<!-- node_0&#45;&gt;node_0_1 -->\n<g id=\"edge4\" class=\"edge\">\n<title>node_0&#45;&gt;node_0_1</title>\n<path fill=\"none\" stroke=\"black\" stroke-width=\"2\" d=\"M99.09,-86.8C104.67,-74.93 112.2,-58.93 118.55,-45.45\"/>\n<polygon fill=\"black\" stroke=\"black\" stroke-width=\"2\" points=\"121.82,-46.71 122.91,-36.18 115.48,-43.73 121.82,-46.71\"/>\n<text text-anchor=\"middle\" x=\"124.49\" y=\"-57.8\" font-family=\"Times,serif\" font-size=\"14.00\">Yes</text>\n</g>\n<!-- node_1_0 -->\n<g id=\"node7\" class=\"node\">\n<title>node_1_0</title>\n<text text-anchor=\"middle\" x=\"211.99\" y=\"-14.3\" font-family=\"Times,serif\" font-size=\"14.00\">758</text>\n</g>\n<!-- node_1&#45;&gt;node_1_0 -->\n<g id=\"edge6\" class=\"edge\">\n<title>node_1&#45;&gt;node_1_0</title>\n<path fill=\"none\" stroke=\"black\" stroke-width=\"2\" d=\"M244.89,-87.21C239.15,-75.29 231.32,-59.06 224.74,-45.42\"/>\n<polygon fill=\"black\" stroke=\"black\" stroke-width=\"2\" points=\"227.71,-43.54 220.22,-36.05 221.41,-46.58 227.71,-43.54\"/>\n<text text-anchor=\"middle\" x=\"242.49\" y=\"-57.8\" font-family=\"Times,serif\" font-size=\"14.00\">No</text>\n</g>\n<!-- node_1_1 -->\n<g id=\"node8\" class=\"node\">\n<title>node_1_1</title>\n<text text-anchor=\"middle\" x=\"283.99\" y=\"-14.3\" font-family=\"Times,serif\" font-size=\"14.00\">1543</text>\n</g>\n<!-- node_1&#45;&gt;node_1_1 -->\n<g id=\"edge7\" class=\"edge\">\n<title>node_1&#45;&gt;node_1_1</title>\n<path fill=\"none\" stroke=\"black\" stroke-width=\"2\" d=\"M259.27,-86.8C263.55,-75.05 269.32,-59.24 274.2,-45.84\"/>\n<polygon fill=\"black\" stroke=\"black\" stroke-width=\"2\" points=\"277.59,-46.77 277.73,-36.18 271.01,-44.37 277.59,-46.77\"/>\n<text text-anchor=\"middle\" x=\"280.49\" y=\"-57.8\" font-family=\"Times,serif\" font-size=\"14.00\">Yes</text>\n</g>\n</g>\n</svg>\n",
            "text/plain": [
              "<graphviz.graphs.Digraph at 0x7f2195231f90>"
            ]
          },
          "metadata": {},
          "execution_count": 19
        }
      ]
    },
    {
      "cell_type": "markdown",
      "source": [
        "### Depth = 3"
      ],
      "metadata": {
        "id": "ygAn-lPmYNf7"
      }
    },
    {
      "cell_type": "code",
      "source": [
        "tree.grow_one_level(x_train, y_train)\n",
        "print(f'The RMSE score in the train is: {calc_model_rmse(tree, x_train, y_train):.2f}')\n",
        "print(f'The RMSE score in the validation is: {calc_model_rmse(tree, x_val, y_val):.2f}')\n",
        "plot_tree(tree)"
      ],
      "metadata": {
        "id": "Gm251GDSYNf8",
        "colab": {
          "base_uri": "https://localhost:8080/",
          "height": 580
        },
        "outputId": "50b74eb7-e214-4cbc-d1ec-0b6ee036eeb8"
      },
      "execution_count": null,
      "outputs": [
        {
          "output_type": "stream",
          "name": "stdout",
          "text": [
            "The RMSE score in the train is: 393.23\n",
            "The RMSE score in the validation is: 386.88\n"
          ]
        },
        {
          "output_type": "execute_result",
          "data": {
            "image/svg+xml": "<?xml version=\"1.0\" encoding=\"UTF-8\" standalone=\"no\"?>\n<!DOCTYPE svg PUBLIC \"-//W3C//DTD SVG 1.1//EN\"\n \"http://www.w3.org/Graphics/SVG/1.1/DTD/svg11.dtd\">\n<!-- Generated by graphviz version 2.43.0 (0)\n -->\n<!-- Title: %3 Pages: 1 -->\n<svg width=\"702pt\" height=\"378pt\"\n viewBox=\"0.00 0.00 702.19 378.00\" xmlns=\"http://www.w3.org/2000/svg\" xmlns:xlink=\"http://www.w3.org/1999/xlink\">\n<g id=\"graph0\" class=\"graph\" transform=\"scale(1 1) rotate(0) translate(4 374)\">\n<title>%3</title>\n<polygon fill=\"white\" stroke=\"transparent\" points=\"-4,4 -4,-374 698.19,-374 698.19,4 -4,4\"/>\n<!-- root -->\n<g id=\"node1\" class=\"node\">\n<title>root</title>\n<text text-anchor=\"start\" x=\"292.5\" y=\"-349.3\" font-family=\"Times,serif\" font-weight=\"bold\" font-style=\"italic\" font-size=\"14.00\">x</text>\n</g>\n<!-- node -->\n<g id=\"node2\" class=\"node\">\n<title>node</title>\n<ellipse fill=\"#dae8fc\" stroke=\"#6c8ebf\" stroke-width=\"3\" cx=\"296\" cy=\"-279\" rx=\"94.78\" ry=\"18\"/>\n<text text-anchor=\"middle\" x=\"296\" y=\"-275.3\" font-family=\"Times,serif\" font-size=\"14.00\">Temperature(°C) &gt;= 11</text>\n</g>\n<!-- root&#45;&gt;node -->\n<g id=\"edge1\" class=\"edge\">\n<title>root&#45;&gt;node</title>\n<path fill=\"none\" stroke=\"black\" stroke-width=\"2\" d=\"M296,-333.81C296,-325.79 296,-316.05 296,-307.07\"/>\n<polygon fill=\"black\" stroke=\"black\" stroke-width=\"2\" points=\"299.5,-307.03 296,-297.03 292.5,-307.03 299.5,-307.03\"/>\n</g>\n<!-- node_0 -->\n<g id=\"node3\" class=\"node\">\n<title>node_0</title>\n<ellipse fill=\"#dae8fc\" stroke=\"#6c8ebf\" stroke-width=\"3\" cx=\"203\" cy=\"-192\" rx=\"90.98\" ry=\"18\"/>\n<text text-anchor=\"middle\" x=\"203\" y=\"-188.3\" font-family=\"Times,serif\" font-size=\"14.00\">Temperature(°C) &gt;= 3</text>\n</g>\n<!-- node&#45;&gt;node_0 -->\n<g id=\"edge2\" class=\"edge\">\n<title>node&#45;&gt;node_0</title>\n<path fill=\"none\" stroke=\"black\" stroke-width=\"2\" d=\"M277.63,-261.21C263.74,-248.52 244.5,-230.93 229.03,-216.79\"/>\n<polygon fill=\"black\" stroke=\"black\" stroke-width=\"2\" points=\"231.08,-213.92 221.34,-209.76 226.36,-219.09 231.08,-213.92\"/>\n<text text-anchor=\"middle\" x=\"264.5\" y=\"-231.8\" font-family=\"Times,serif\" font-size=\"14.00\">No</text>\n</g>\n<!-- node_1 -->\n<g id=\"node10\" class=\"node\">\n<title>node_1</title>\n<ellipse fill=\"#dae8fc\" stroke=\"#6c8ebf\" stroke-width=\"3\" cx=\"390\" cy=\"-192\" rx=\"53.09\" ry=\"18\"/>\n<text text-anchor=\"middle\" x=\"390\" y=\"-188.3\" font-family=\"Times,serif\" font-size=\"14.00\">Hour &gt;= 16</text>\n</g>\n<!-- node&#45;&gt;node_1 -->\n<g id=\"edge9\" class=\"edge\">\n<title>node&#45;&gt;node_1</title>\n<path fill=\"none\" stroke=\"black\" stroke-width=\"2\" d=\"M314.57,-261.21C328.79,-248.35 348.56,-230.47 364.3,-216.24\"/>\n<polygon fill=\"black\" stroke=\"black\" stroke-width=\"2\" points=\"367.04,-218.48 372.1,-209.18 362.34,-213.29 367.04,-218.48\"/>\n<text text-anchor=\"middle\" x=\"359.5\" y=\"-231.8\" font-family=\"Times,serif\" font-size=\"14.00\">Yes</text>\n</g>\n<!-- node_0_0 -->\n<g id=\"node4\" class=\"node\">\n<title>node_0_0</title>\n<ellipse fill=\"#dae8fc\" stroke=\"#6c8ebf\" stroke-width=\"3\" cx=\"88\" cy=\"-105\" rx=\"48.99\" ry=\"18\"/>\n<text text-anchor=\"middle\" x=\"88\" y=\"-101.3\" font-family=\"Times,serif\" font-size=\"14.00\">Hour &gt;= 7</text>\n</g>\n<!-- node_0&#45;&gt;node_0_0 -->\n<g id=\"edge3\" class=\"edge\">\n<title>node_0&#45;&gt;node_0_0</title>\n<path fill=\"none\" stroke=\"black\" stroke-width=\"2\" d=\"M180.55,-174.41C162.37,-160.97 136.61,-141.93 116.89,-127.35\"/>\n<polygon fill=\"black\" stroke=\"black\" stroke-width=\"2\" points=\"118.96,-124.53 108.84,-121.4 114.8,-130.16 118.96,-124.53\"/>\n<text text-anchor=\"middle\" x=\"161.5\" y=\"-144.8\" font-family=\"Times,serif\" font-size=\"14.00\">No</text>\n</g>\n<!-- node_0_1 -->\n<g id=\"node7\" class=\"node\">\n<title>node_0_1</title>\n<ellipse fill=\"#dae8fc\" stroke=\"#6c8ebf\" stroke-width=\"3\" cx=\"203\" cy=\"-105\" rx=\"48.99\" ry=\"18\"/>\n<text text-anchor=\"middle\" x=\"203\" y=\"-101.3\" font-family=\"Times,serif\" font-size=\"14.00\">Hour &gt;= 7</text>\n</g>\n<!-- node_0&#45;&gt;node_0_1 -->\n<g id=\"edge6\" class=\"edge\">\n<title>node_0&#45;&gt;node_0_1</title>\n<path fill=\"none\" stroke=\"black\" stroke-width=\"2\" d=\"M203,-173.8C203,-162.16 203,-146.55 203,-133.24\"/>\n<polygon fill=\"black\" stroke=\"black\" stroke-width=\"2\" points=\"206.5,-133.18 203,-123.18 199.5,-133.18 206.5,-133.18\"/>\n<text text-anchor=\"middle\" x=\"213.5\" y=\"-144.8\" font-family=\"Times,serif\" font-size=\"14.00\">Yes</text>\n</g>\n<!-- node_0_0_0 -->\n<g id=\"node5\" class=\"node\">\n<title>node_0_0_0</title>\n<text text-anchor=\"middle\" x=\"27\" y=\"-14.3\" font-family=\"Times,serif\" font-size=\"14.00\">121</text>\n</g>\n<!-- node_0_0&#45;&gt;node_0_0_0 -->\n<g id=\"edge4\" class=\"edge\">\n<title>node_0_0&#45;&gt;node_0_0_0</title>\n<path fill=\"none\" stroke=\"black\" stroke-width=\"2\" d=\"M75.95,-87.21C67.15,-74.95 55.07,-58.11 45.11,-44.24\"/>\n<polygon fill=\"black\" stroke=\"black\" stroke-width=\"2\" points=\"47.91,-42.13 39.24,-36.05 42.22,-46.21 47.91,-42.13\"/>\n<text text-anchor=\"middle\" x=\"70.5\" y=\"-57.8\" font-family=\"Times,serif\" font-size=\"14.00\">No</text>\n</g>\n<!-- node_0_0_1 -->\n<g id=\"node6\" class=\"node\">\n<title>node_0_0_1</title>\n<text text-anchor=\"middle\" x=\"99\" y=\"-14.3\" font-family=\"Times,serif\" font-size=\"14.00\">300</text>\n</g>\n<!-- node_0_0&#45;&gt;node_0_0_1 -->\n<g id=\"edge5\" class=\"edge\">\n<title>node_0_0&#45;&gt;node_0_0_1</title>\n<path fill=\"none\" stroke=\"black\" stroke-width=\"2\" d=\"M90.23,-86.8C91.73,-75.16 93.75,-59.55 95.48,-46.24\"/>\n<polygon fill=\"black\" stroke=\"black\" stroke-width=\"2\" points=\"98.96,-46.54 96.78,-36.18 92.02,-45.64 98.96,-46.54\"/>\n<text text-anchor=\"middle\" x=\"105.5\" y=\"-57.8\" font-family=\"Times,serif\" font-size=\"14.00\">Yes</text>\n</g>\n<!-- node_0_1_0 -->\n<g id=\"node8\" class=\"node\">\n<title>node_0_1_0</title>\n<text text-anchor=\"middle\" x=\"182\" y=\"-14.3\" font-family=\"Times,serif\" font-size=\"14.00\">249</text>\n</g>\n<!-- node_0_1&#45;&gt;node_0_1_0 -->\n<g id=\"edge7\" class=\"edge\">\n<title>node_0_1&#45;&gt;node_0_1_0</title>\n<path fill=\"none\" stroke=\"black\" stroke-width=\"2\" d=\"M198.75,-86.8C195.88,-75.16 192.02,-59.55 188.73,-46.24\"/>\n<polygon fill=\"black\" stroke=\"black\" stroke-width=\"2\" points=\"192.04,-45.04 186.24,-36.18 185.24,-46.72 192.04,-45.04\"/>\n<text text-anchor=\"middle\" x=\"202.5\" y=\"-57.8\" font-family=\"Times,serif\" font-size=\"14.00\">No</text>\n</g>\n<!-- node_0_1_1 -->\n<g id=\"node9\" class=\"node\">\n<title>node_0_1_1</title>\n<text text-anchor=\"middle\" x=\"254\" y=\"-14.3\" font-family=\"Times,serif\" font-size=\"14.00\">647</text>\n</g>\n<!-- node_0_1&#45;&gt;node_0_1_1 -->\n<g id=\"edge8\" class=\"edge\">\n<title>node_0_1&#45;&gt;node_0_1_1</title>\n<path fill=\"none\" stroke=\"black\" stroke-width=\"2\" d=\"M213.08,-87.21C220.36,-75.06 230.34,-58.43 238.62,-44.63\"/>\n<polygon fill=\"black\" stroke=\"black\" stroke-width=\"2\" points=\"241.63,-46.43 243.77,-36.05 235.62,-42.82 241.63,-46.43\"/>\n<text text-anchor=\"middle\" x=\"242.5\" y=\"-57.8\" font-family=\"Times,serif\" font-size=\"14.00\">Yes</text>\n</g>\n<!-- node_1_0 -->\n<g id=\"node11\" class=\"node\">\n<title>node_1_0</title>\n<ellipse fill=\"#dae8fc\" stroke=\"#6c8ebf\" stroke-width=\"3\" cx=\"390\" cy=\"-105\" rx=\"120.48\" ry=\"18\"/>\n<text text-anchor=\"middle\" x=\"390\" y=\"-101.3\" font-family=\"Times,serif\" font-size=\"14.00\">Solar Radiation (MJ/m2) &gt;= 0</text>\n</g>\n<!-- node_1&#45;&gt;node_1_0 -->\n<g id=\"edge10\" class=\"edge\">\n<title>node_1&#45;&gt;node_1_0</title>\n<path fill=\"none\" stroke=\"black\" stroke-width=\"2\" d=\"M390,-173.8C390,-162.16 390,-146.55 390,-133.24\"/>\n<polygon fill=\"black\" stroke=\"black\" stroke-width=\"2\" points=\"393.5,-133.18 390,-123.18 386.5,-133.18 393.5,-133.18\"/>\n<text text-anchor=\"middle\" x=\"398.5\" y=\"-144.8\" font-family=\"Times,serif\" font-size=\"14.00\">No</text>\n</g>\n<!-- node_1_1 -->\n<g id=\"node14\" class=\"node\">\n<title>node_1_1</title>\n<ellipse fill=\"#dae8fc\" stroke=\"#6c8ebf\" stroke-width=\"3\" cx=\"611\" cy=\"-105\" rx=\"83.39\" ry=\"18\"/>\n<text text-anchor=\"middle\" x=\"611\" y=\"-101.3\" font-family=\"Times,serif\" font-size=\"14.00\">Humidity(%) &gt;= 87</text>\n</g>\n<!-- node_1&#45;&gt;node_1_1 -->\n<g id=\"edge13\" class=\"edge\">\n<title>node_1&#45;&gt;node_1_1</title>\n<path fill=\"none\" stroke=\"black\" stroke-width=\"2\" d=\"M424.05,-177.91C461.12,-163.65 520.7,-140.73 562.62,-124.61\"/>\n<polygon fill=\"black\" stroke=\"black\" stroke-width=\"2\" points=\"563.99,-127.83 572.07,-120.97 561.48,-121.3 563.99,-127.83\"/>\n<text text-anchor=\"middle\" x=\"524.5\" y=\"-144.8\" font-family=\"Times,serif\" font-size=\"14.00\">Yes</text>\n</g>\n<!-- node_1_0_0 -->\n<g id=\"node12\" class=\"node\">\n<title>node_1_0_0</title>\n<text text-anchor=\"middle\" x=\"358\" y=\"-14.3\" font-family=\"Times,serif\" font-size=\"14.00\">466</text>\n</g>\n<!-- node_1_0&#45;&gt;node_1_0_0 -->\n<g id=\"edge11\" class=\"edge\">\n<title>node_1_0&#45;&gt;node_1_0_0</title>\n<path fill=\"none\" stroke=\"black\" stroke-width=\"2\" d=\"M383.52,-86.8C379.1,-75.05 373.15,-59.24 368.11,-45.84\"/>\n<polygon fill=\"black\" stroke=\"black\" stroke-width=\"2\" points=\"371.26,-44.3 364.47,-36.18 364.71,-46.77 371.26,-44.3\"/>\n<text text-anchor=\"middle\" x=\"384.5\" y=\"-57.8\" font-family=\"Times,serif\" font-size=\"14.00\">No</text>\n</g>\n<!-- node_1_0_1 -->\n<g id=\"node13\" class=\"node\">\n<title>node_1_0_1</title>\n<text text-anchor=\"middle\" x=\"430\" y=\"-14.3\" font-family=\"Times,serif\" font-size=\"14.00\">1025</text>\n</g>\n<!-- node_1_0&#45;&gt;node_1_0_1 -->\n<g id=\"edge12\" class=\"edge\">\n<title>node_1_0&#45;&gt;node_1_0_1</title>\n<path fill=\"none\" stroke=\"black\" stroke-width=\"2\" d=\"M398.09,-86.8C403.68,-74.93 411.21,-58.93 417.55,-45.45\"/>\n<polygon fill=\"black\" stroke=\"black\" stroke-width=\"2\" points=\"420.83,-46.71 421.92,-36.18 414.49,-43.73 420.83,-46.71\"/>\n<text text-anchor=\"middle\" x=\"423.5\" y=\"-57.8\" font-family=\"Times,serif\" font-size=\"14.00\">Yes</text>\n</g>\n<!-- node_1_1_0 -->\n<g id=\"node15\" class=\"node\">\n<title>node_1_1_0</title>\n<text text-anchor=\"middle\" x=\"575\" y=\"-14.3\" font-family=\"Times,serif\" font-size=\"14.00\">1659</text>\n</g>\n<!-- node_1_1&#45;&gt;node_1_1_0 -->\n<g id=\"edge14\" class=\"edge\">\n<title>node_1_1&#45;&gt;node_1_1_0</title>\n<path fill=\"none\" stroke=\"black\" stroke-width=\"2\" d=\"M603.71,-86.8C598.69,-74.93 591.91,-58.93 586.2,-45.45\"/>\n<polygon fill=\"black\" stroke=\"black\" stroke-width=\"2\" points=\"589.4,-44.02 582.27,-36.18 582.95,-46.75 589.4,-44.02\"/>\n<text text-anchor=\"middle\" x=\"604.5\" y=\"-57.8\" font-family=\"Times,serif\" font-size=\"14.00\">No</text>\n</g>\n<!-- node_1_1_1 -->\n<g id=\"node16\" class=\"node\">\n<title>node_1_1_1</title>\n<text text-anchor=\"middle\" x=\"647\" y=\"-14.3\" font-family=\"Times,serif\" font-size=\"14.00\">256</text>\n</g>\n<!-- node_1_1&#45;&gt;node_1_1_1 -->\n<g id=\"edge15\" class=\"edge\">\n<title>node_1_1&#45;&gt;node_1_1_1</title>\n<path fill=\"none\" stroke=\"black\" stroke-width=\"2\" d=\"M618.29,-86.8C623.31,-74.93 630.09,-58.93 635.8,-45.45\"/>\n<polygon fill=\"black\" stroke=\"black\" stroke-width=\"2\" points=\"639.05,-46.75 639.73,-36.18 632.6,-44.02 639.05,-46.75\"/>\n<text text-anchor=\"middle\" x=\"641.5\" y=\"-57.8\" font-family=\"Times,serif\" font-size=\"14.00\">Yes</text>\n</g>\n</g>\n</svg>\n",
            "text/plain": [
              "<graphviz.graphs.Digraph at 0x7f21952325f0>"
            ]
          },
          "metadata": {},
          "execution_count": 20
        }
      ]
    },
    {
      "cell_type": "markdown",
      "source": [
        "## Growing until depth = 13\n",
        "\n",
        "We shall stop plotting the tree from here."
      ],
      "metadata": {
        "id": "JKiUeB6eYNf8"
      }
    },
    {
      "cell_type": "code",
      "source": [
        "for level in range(4, 14):\n",
        "    print(f'\\nLevel {level}:')\n",
        "    tree.grow_one_level(x_train, y_train)\n",
        "    print(f'The RMSE score in the train is: {calc_model_rmse(tree, x_train, y_train):.2f}')\n",
        "    print(f'The RMSE score in the validation is: {calc_model_rmse(tree, x_val, y_val):.2f}')"
      ],
      "metadata": {
        "id": "dSp2X-CjYNf8",
        "colab": {
          "base_uri": "https://localhost:8080/"
        },
        "outputId": "6e961558-cc43-40e6-dd3f-f0f81ab66c97"
      },
      "execution_count": null,
      "outputs": [
        {
          "output_type": "stream",
          "name": "stdout",
          "text": [
            "\n",
            "Level 4:\n",
            "The RMSE score in the train is: 364.48\n",
            "The RMSE score in the validation is: 361.72\n",
            "\n",
            "Level 5:\n",
            "The RMSE score in the train is: 331.24\n",
            "The RMSE score in the validation is: 328.86\n",
            "\n",
            "Level 6:\n",
            "The RMSE score in the train is: 296.80\n",
            "The RMSE score in the validation is: 296.11\n",
            "\n",
            "Level 7:\n",
            "The RMSE score in the train is: 268.52\n",
            "The RMSE score in the validation is: 280.47\n",
            "\n",
            "Level 8:\n",
            "The RMSE score in the train is: 241.99\n",
            "The RMSE score in the validation is: 274.06\n",
            "\n",
            "Level 9:\n",
            "The RMSE score in the train is: 211.13\n",
            "The RMSE score in the validation is: 262.83\n",
            "\n",
            "Level 10:\n",
            "The RMSE score in the train is: 183.85\n",
            "The RMSE score in the validation is: 255.81\n",
            "\n",
            "Level 11:\n",
            "The RMSE score in the train is: 155.16\n",
            "The RMSE score in the validation is: 257.03\n",
            "\n",
            "Level 12:\n",
            "The RMSE score in the train is: 128.76\n",
            "The RMSE score in the validation is: 255.72\n",
            "\n",
            "Level 13:\n",
            "The RMSE score in the train is: 105.86\n",
            "The RMSE score in the validation is: 258.44\n"
          ]
        }
      ]
    },
    {
      "cell_type": "markdown",
      "source": [
        "### Pruning\n",
        "\n",
        "We can now use the pruning function to prune the tree using the validation set."
      ],
      "metadata": {
        "id": "DKaQMpf4YNf8"
      }
    },
    {
      "cell_type": "code",
      "source": [
        "tree.prune(x_val, y_val)\n",
        "print(f'The RMSE score in the train is: {calc_model_rmse(tree, x_train, y_train):.2f}')\n",
        "print(f'The RMSE score in the validation is: {calc_model_rmse(tree, x_val, y_val):.2f}')"
      ],
      "metadata": {
        "id": "MzkGYEopYNf9",
        "colab": {
          "base_uri": "https://localhost:8080/"
        },
        "outputId": "49b2e345-7aa6-4aaf-cd0c-0e90ba6592f7"
      },
      "execution_count": null,
      "outputs": [
        {
          "output_type": "stream",
          "name": "stdout",
          "text": [
            "The RMSE score in the train is: 187.02\n",
            "The RMSE score in the validation is: 231.42\n"
          ]
        }
      ]
    },
    {
      "cell_type": "markdown",
      "source": [
        "## Final evaluation\n",
        "\n",
        "Evaluate the model using the test set\n",
        "\n",
        "✍️ Complete the code below the evaluate the RMSE on the test set"
      ],
      "metadata": {
        "id": "ux-NgwqJYNf9"
      }
    },
    {
      "cell_type": "code",
      "source": [
        "## %%%%%%%%%%%%%%% Your code here - Begin %%%%%%%%%%%%%%%\n",
        "print(f'The RMSE score in the test is: {calc_model_rmse(tree, x_test, y_test):.2f}')\n",
        "## %%%%%%%%%%%%%%% Your code here - End %%%%%%%%%%%%%%%%%"
      ],
      "metadata": {
        "id": "VCY_2GZYYNf9",
        "colab": {
          "base_uri": "https://localhost:8080/"
        },
        "outputId": "6f0d56e1-7351-4fb4-fce1-955e9d8c5862"
      },
      "execution_count": null,
      "outputs": [
        {
          "output_type": "stream",
          "name": "stdout",
          "text": [
            "The RMSE score in the test is: 247.94\n"
          ]
        }
      ]
    },
    {
      "cell_type": "markdown",
      "source": [
        "## Decision trees in scikit-learn\n",
        "\n",
        "The scikit-learn package also has an implementation for decision trees. Use the documentation of the [DecisionTreeRegressor](https://scikit-learn.org/stable/modules/generated/sklearn.tree.DecisionTreeRegressor.html) object and use in to grow a tree of depth 13. Evaluate the train and validation errors on the new trained, and check that you get the same results as with implementation in this notebook (up to around 1% difference).\n",
        "\n",
        "- Note that the run time of the scikit-learn implementation is significantly faster, mainly due to a more efficient implementation of the search for the best split.\n",
        "\n",
        "✍️ Complete the code below to train and evaluate a decision tree of depth 13 using the scikit-learn package:"
      ],
      "metadata": {
        "id": "oy3gzotEYNf9"
      }
    },
    {
      "cell_type": "code",
      "source": [
        "from sklearn.tree import DecisionTreeRegressor\n",
        "\n",
        "## %%%%%%%%%%%%%%% Your code here - Begin %%%%%%%%%%%%%%%\n",
        "tree2 = DecisionTreeRegressor(max_depth=13)\n",
        "tree2.fit(x_train, y_train)\n",
        "# %%%%%%%%%%%%%%% Your code here - End %%%%%%%%%%%%%%%%%\n",
        "\n",
        "print(f'The RMSE score in the train is: {calc_model_rmse(tree2, x_train, y_train):.2f}')\n",
        "print(f'The RMSE score in the validation is: {calc_model_rmse(tree2, x_val, y_val):.2f}')"
      ],
      "metadata": {
        "id": "93mkLHywYNf9",
        "colab": {
          "base_uri": "https://localhost:8080/"
        },
        "outputId": "46fd330f-7c86-446b-ab25-faa64a86e355"
      },
      "execution_count": null,
      "outputs": [
        {
          "output_type": "stream",
          "name": "stdout",
          "text": [
            "The RMSE score in the train is: 105.86\n",
            "The RMSE score in the validation is: 271.96\n"
          ]
        }
      ]
    },
    {
      "cell_type": "markdown",
      "source": [
        "## Submission\n",
        "\n",
        "To submit your code download it as a **ipynb** file from Colab, and upload it to the course's website (Moodle). You can download this code by selecting **Download .ipynb** from the **file** menu."
      ],
      "metadata": {
        "id": "q9GmHgABYNf-"
      }
    }
  ],
  "metadata": {
    "kernelspec": {
      "display_name": "Python 3",
      "language": "python",
      "name": "python3"
    },
    "colab": {
      "provenance": []
    }
  },
  "nbformat": 4,
  "nbformat_minor": 0
}